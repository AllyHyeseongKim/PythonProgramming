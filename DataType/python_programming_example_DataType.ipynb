{
  "nbformat": 4,
  "nbformat_minor": 0,
  "metadata": {
    "colab": {
      "name": "Python 자료형 연습문제.ipynb",
      "provenance": [],
      "private_outputs": true,
      "collapsed_sections": [],
      "authorship_tag": "ABX9TyPseDRwhOT9EPx+lFG55zlR",
      "include_colab_link": true
    },
    "kernelspec": {
      "name": "python3",
      "display_name": "Python 3"
    }
  },
  "cells": [
    {
      "cell_type": "markdown",
      "metadata": {
        "id": "view-in-github",
        "colab_type": "text"
      },
      "source": [
        "<a href=\"https://colab.research.google.com/github/AllyHyeseongKim/PythonProgramming/blob/main/DataType/python_programming_example_DataType.ipynb\" target=\"_parent\"><img src=\"https://colab.research.google.com/assets/colab-badge.svg\" alt=\"Open In Colab\"/></a>"
      ]
    },
    {
      "cell_type": "markdown",
      "metadata": {
        "id": "7P1UsINeuGUk"
      },
      "source": [
        "# 1. Python 자료형 연습문제"
      ]
    },
    {
      "cell_type": "markdown",
      "metadata": {
        "id": "2cJCJkS3ua57"
      },
      "source": [
        "## 1.1. 튜플 자료형\n",
        "\n",
        "아래와 같이, 한 학생의 2020년도 수능 국어, 수학 점수를 튜플로 저장한 중앙고등학교 3학년 1반 학생 20명의 점수 리스트가 있다고 하자. 각 학생의 영어 점수를 임의로 입력하여 각 튜플에 추가한 후, 중앙고등학교 3학년 1반 각 학생들의 국수영 총점 리스트를 출력하시오."
      ]
    },
    {
      "cell_type": "code",
      "metadata": {
        "id": "AM9BaXMtME0h"
      },
      "source": [
        "sat_20_0301 = []\n",
        "sat_20_0301.append((100, 98))\n",
        "sat_20_0301.append((97, 95))\n",
        "sat_20_0301.append((88, 90))\n",
        "sat_20_0301.append((50, 58))\n",
        "sat_20_0301.append((100, 100))\n",
        "sat_20_0301.append((97, 100))\n",
        "sat_20_0301.append((100, 98))\n",
        "sat_20_0301.append((97, 95))\n",
        "sat_20_0301.append((88, 90))\n",
        "sat_20_0301.append((50, 58))\n",
        "sat_20_0301.append((100, 100))\n",
        "sat_20_0301.append((97, 100))\n",
        "sat_20_0301.append((100, 98))\n",
        "sat_20_0301.append((97, 95))\n",
        "sat_20_0301.append((88, 90))\n",
        "sat_20_0301.append((50, 58))\n",
        "sat_20_0301.append((100, 100))\n",
        "sat_20_0301.append((97, 100))\n",
        "sat_20_0301.append((78, 80))\n",
        "sat_20_0301.append((60, 68))"
      ],
      "execution_count": null,
      "outputs": []
    },
    {
      "cell_type": "markdown",
      "metadata": {
        "id": "qFlVQjtOwwRg"
      },
      "source": [
        "실행 예)\n",
        "\n",
        "    입력: 100 98 90 86 88 94 95 90 88 85 80 100 98 92 94 88 70 78 91 100\n",
        "        (20개의 영어 점수 데이터를 입력)\n",
        "    출력: [298, 290, 268, 194, 288, 291, 293, 282, 266, 193, 280, 297, 296, 284, 272, 196, 270, 275, 249, 288]"
      ]
    },
    {
      "cell_type": "code",
      "metadata": {
        "id": "uoBuZJiFaGry"
      },
      "source": [
        ""
      ],
      "execution_count": null,
      "outputs": []
    },
    {
      "cell_type": "markdown",
      "metadata": {
        "id": "C3Ot2Yx5xe04"
      },
      "source": [
        "## 1.2. 딕셔너리 자료형\n",
        "\n",
        "아래와 같이, 다음 딕셔너리의 내용을 연락처 리스트에 넣은 후 새로운 연락처를 추가하는 프로그램을 작성하시오. (단, 딕셔너리에 존재하는 전화번호를 입력할 경우 \"전화번호 중복\"을 출력하고 전화번호를 다시 입력할 것)\n",
        "\n",
        "\n",
        "|Key|Value|\n",
        "|---|-----|\n",
        "|name|김중앙|\n",
        "|phone|01000000000|\n",
        "|birth|000101|\n",
        "|email|chungangkim@cau.ac.kr|\n",
        "\n",
        "\n",
        "|Key|Value|\n",
        "|---|-----|\n",
        "|name|이중앙|\n",
        "|phone|010111111111|\n",
        "|birth|990201|\n",
        "|email|chunganglee@cau.ac.kr|"
      ]
    },
    {
      "cell_type": "code",
      "metadata": {
        "id": "vm7kV6PDwrgb"
      },
      "source": [
        "contacts = [{'name':'김중앙', 'phone':'01000000000', 'birth':'000101', 'email':'chungangkim@cau.ac.kr'}, {'name':'이중앙', 'phone':'01011111111', 'birth':'990201', 'email':'chunganglee@cau.ac.kr'}]"
      ],
      "execution_count": null,
      "outputs": []
    },
    {
      "cell_type": "markdown",
      "metadata": {
        "id": "LOJJ3GS0y393"
      },
      "source": [
        "실행 예)\n",
        "\n",
        "    입력: \n",
        "        이름: 박중앙\n",
        "        전화번호: 01000000000\n",
        "    출력: 전화번호 중복\n",
        "    입력:\n",
        "        전화번호: 01022222222\n",
        "        생년월일: 980301\n",
        "        이메일: chungangpark@cau.ac.kr"
      ]
    },
    {
      "cell_type": "code",
      "metadata": {
        "id": "fnlUIPWDy1EP"
      },
      "source": [
        ""
      ],
      "execution_count": null,
      "outputs": []
    },
    {
      "cell_type": "markdown",
      "metadata": {
        "id": "Mawye2s4zNmq"
      },
      "source": [
        "## 1.3. 집합 자료형\n",
        "\n",
        "아래와 같이, 냉장고에 있는 재료가 있다고 하자. (단, 메뉴들은 아래와 같이 숫자로 저장되어 있음) 특정 메뉴를 만들고자할 때, 그 메뉴를 만들기 위해 필요한 재료를 입력하고 냉장고에 없는 재료를 출력하시오. (단, 모든 재료는 냉장고에 보관한다고 가정)\n",
        "\n",
        "    (0: 달걀, 1: 양파, 2: 당근, 3: 감자, 4: 두부, 5: 버섯, 6: 소고기, 7: 참기름, 8: 미역, 9: 버섯)"
      ]
    },
    {
      "cell_type": "code",
      "metadata": {
        "id": "mtcgs6UFzx2q"
      },
      "source": [
        "refrigerator = {0, 1, 2, 3, 4, 5, 6}"
      ],
      "execution_count": null,
      "outputs": []
    },
    {
      "cell_type": "markdown",
      "metadata": {
        "id": "gkLwQ_FW0CEW"
      },
      "source": [
        "실행 예)\n",
        "\n",
        "    입력: 미역 참기름 소고기\n",
        "    출력: 미역, 참기름"
      ]
    },
    {
      "cell_type": "code",
      "metadata": {
        "id": "VLipy2Lq0Idr"
      },
      "source": [
        ""
      ],
      "execution_count": null,
      "outputs": []
    },
    {
      "cell_type": "markdown",
      "metadata": {
        "id": "VSBBavLg0JC8"
      },
      "source": [
        "## 1.4. 자료형 복합\n",
        "\n",
        "[1, 100] 구간 안에 존재하는 정수 두 개를 입력하고 두 수의 최소공배수를 출력하시오."
      ]
    },
    {
      "cell_type": "markdown",
      "metadata": {
        "id": "e858AXY30UFl"
      },
      "source": [
        "실행 예)\n",
        "\n",
        "    입력: 27 86\n",
        "    출력: 2322"
      ]
    },
    {
      "cell_type": "code",
      "metadata": {
        "id": "V43PlGOF0TyE"
      },
      "source": [
        ""
      ],
      "execution_count": null,
      "outputs": []
    }
  ]
}