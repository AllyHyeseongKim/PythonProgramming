{
  "nbformat": 4,
  "nbformat_minor": 0,
  "metadata": {
    "colab": {
      "name": "Python 자료형&문자열 연습문제.ipynb",
      "provenance": [],
      "private_outputs": true,
      "collapsed_sections": [],
      "toc_visible": true,
      "authorship_tag": "ABX9TyNYM1mGlKDDthDr0bhM8nwC",
      "include_colab_link": true
    },
    "kernelspec": {
      "name": "python3",
      "display_name": "Python 3"
    }
  },
  "cells": [
    {
      "cell_type": "markdown",
      "metadata": {
        "id": "view-in-github",
        "colab_type": "text"
      },
      "source": [
        "<a href=\"https://colab.research.google.com/github/AllyHyeseongKim/PythonProgramming/blob/main/DataType%26String_Examples(Python).ipynb\" target=\"_parent\"><img src=\"https://colab.research.google.com/assets/colab-badge.svg\" alt=\"Open In Colab\"/></a>"
      ]
    },
    {
      "cell_type": "markdown",
      "metadata": {
        "id": "7P1UsINeuGUk"
      },
      "source": [
        "# 1. Python 자료형 연습문제"
      ]
    },
    {
      "cell_type": "markdown",
      "metadata": {
        "id": "2cJCJkS3ua57"
      },
      "source": [
        "## 1.1. 튜플 자료형\n",
        "\n",
        "아래와 같이, 한 학생의 2020년도 수능 국어, 수학 점수를 튜플로 저장한 중앙고등학교 3학년 1반 학생 20명의 점수 리스트가 있다고 하자. 각 학생의 영어 점수를 임의로 입력하여 각 튜플에 추가한 후, 중앙고등학교 3학년 1반 각 학생들의 국수영 총점 리스트를 출력하시오."
      ]
    },
    {
      "cell_type": "code",
      "metadata": {
        "id": "QeTddvHGumOE"
      },
      "source": [
        "sat_20_0301 = [(100, 98), (97, 95), (88, 90), (50, 58), (100, 100), (97, 100), (100, 98), (97, 95), (88, 90), (50, 58), (100, 100), (97, 100), (100, 98), (97, 95), (88, 90), (50, 58), (100, 100), (97, 100), (78, 80), (60, 68)]"
      ],
      "execution_count": null,
      "outputs": []
    },
    {
      "cell_type": "markdown",
      "metadata": {
        "id": "qFlVQjtOwwRg"
      },
      "source": [
        "실행 예)\n",
        "\n",
        "    입력: 100 98 90 86 88 94 95 90 88 85 80 100 98 92 94 88 70 78 91 100\n",
        "        (20개의 영어 점수 데이터를 입력)\n",
        "    출력: [298, 290, 168, 194, 288, 291, 293, 282, 266, 193, 280, 297, 296, 284, 272, 196, 270, 275, 249, 288]"
      ]
    },
    {
      "cell_type": "code",
      "metadata": {
        "id": "wOXxWATiyz4_"
      },
      "source": [
        ""
      ],
      "execution_count": null,
      "outputs": []
    },
    {
      "cell_type": "markdown",
      "metadata": {
        "id": "C3Ot2Yx5xe04"
      },
      "source": [
        "## 1.2. 딕셔너리 자료형\n",
        "\n",
        "아래와 같이, 다음 딕셔너리의 내용을 연락처 리스트에 넣은 후 새로운 연락처를 추가하는 프로그램을 작성하시오. (단, 딕셔너리에 존재하는 전화번호를 입력할 경우 \"전화번호 중복\"을 출력하고 전화번호를 다시 입력할 것)\n",
        "\n",
        "\n",
        "|Key|Value|\n",
        "|---|-----|\n",
        "|name|김중앙|\n",
        "|phone|01000000000|\n",
        "|birth|000101|\n",
        "|email|chungangkim@cau.ac.kr|\n",
        "\n",
        "\n",
        "|Key|Value|\n",
        "|---|-----|\n",
        "|name|이중앙|\n",
        "|phone|010111111111|\n",
        "|birth|990201|\n",
        "|email|chunganglee@cau.ac.kr|"
      ]
    },
    {
      "cell_type": "code",
      "metadata": {
        "id": "vm7kV6PDwrgb"
      },
      "source": [
        "contacts = [{'name':'김중앙', 'phone':'01000000000', 'birth':'000101', 'email':'chungangkim@cau.ac.kr'}, {'name':'이중앙', 'phone':'01011111111', 'birth':'990201', 'email':'chunganglee@cau.ac.kr'}]"
      ],
      "execution_count": null,
      "outputs": []
    },
    {
      "cell_type": "markdown",
      "metadata": {
        "id": "LOJJ3GS0y393"
      },
      "source": [
        "실행 예)\n",
        "\n",
        "    입력: \n",
        "        이름: 박중앙\n",
        "        전화번호: 01000000000\n",
        "    출력: 전화번호 중복\n",
        "    입력:\n",
        "        전화번호: 01022222222\n",
        "        생년월일: 980301\n",
        "        이메일: chungangpark@cau.ac.kr"
      ]
    },
    {
      "cell_type": "code",
      "metadata": {
        "id": "fnlUIPWDy1EP"
      },
      "source": [
        ""
      ],
      "execution_count": null,
      "outputs": []
    },
    {
      "cell_type": "markdown",
      "metadata": {
        "id": "Mawye2s4zNmq"
      },
      "source": [
        "## 1.3. 집합 자료형\n",
        "\n",
        "아래와 같이, 냉장고에 있는 재료가 있다고 하자. (단, 메뉴들은 아래와 같이 숫자로 저장되어 있음) 특정 메뉴를 만들고자할 때, 그 메뉴를 만들기 위해 필요한 재료를 입력하고 냉장고에 없는 재료를 출력하시오. (단, 모든 재료는 냉장고에 보관한다고 가정)\n",
        "\n",
        "    (0: 달걀, 1: 양파, 2: 당근, 3: 감자, 4: 두부, 5: 버섯, 6: 소고기, 7: 참기름, 8: 미역, 9: 버섯)"
      ]
    },
    {
      "cell_type": "code",
      "metadata": {
        "id": "mtcgs6UFzx2q"
      },
      "source": [
        "refrigerator = {0, 1, 2, 3, 4, 5, 6}"
      ],
      "execution_count": null,
      "outputs": []
    },
    {
      "cell_type": "markdown",
      "metadata": {
        "id": "gkLwQ_FW0CEW"
      },
      "source": [
        "실행 예)\n",
        "\n",
        "    입력: 미역 참기름 소고기\n",
        "    출력: 미역, 참기름"
      ]
    },
    {
      "cell_type": "code",
      "metadata": {
        "id": "VLipy2Lq0Idr"
      },
      "source": [
        ""
      ],
      "execution_count": null,
      "outputs": []
    },
    {
      "cell_type": "markdown",
      "metadata": {
        "id": "VSBBavLg0JC8"
      },
      "source": [
        "## 1.4. 자료형 복합\n",
        "\n",
        "[1, 100] 구간 안에 존재하는 정수 두 개를 입력하고 두 수의 최소공배수를 출력하시오."
      ]
    },
    {
      "cell_type": "code",
      "metadata": {
        "id": "V43PlGOF0TyE"
      },
      "source": [
        ""
      ],
      "execution_count": null,
      "outputs": []
    },
    {
      "cell_type": "markdown",
      "metadata": {
        "id": "e858AXY30UFl"
      },
      "source": [
        "실행 예)\n",
        "\n",
        "    입력: 27 86\n",
        "    출력: 2322"
      ]
    },
    {
      "cell_type": "markdown",
      "metadata": {
        "id": "rqNr0nne0Ykd"
      },
      "source": [
        "# 2. Python 문자열 연습문제"
      ]
    },
    {
      "cell_type": "markdown",
      "metadata": {
        "id": "RLGTYkgg-U_z"
      },
      "source": [
        "## 2.1. 문자열 연산, 인덱싱, 슬라이싱, escape\n",
        "\n",
        "아래와 같이, 학번과 이름이 붙어있는 학생 정보 리스트가 있을 때, 슬라이싱을 이용하여 각 학생의 학번과 이름을 튜플로 저장한 리스트를 출력하시오."
      ]
    },
    {
      "cell_type": "code",
      "metadata": {
        "id": "XXrCXcUg-gei"
      },
      "source": [
        "students = ['20200000chungangkim', '20201111chunganglee', '20202222chungangpark']"
      ],
      "execution_count": null,
      "outputs": []
    },
    {
      "cell_type": "markdown",
      "metadata": {
        "id": "dw6K2-nz-5IM"
      },
      "source": [
        "실행 예)\n",
        "\n",
        "    출력: [{'id':'20200000', 'name':'chungangkim'}, {'id':'20201111', 'name':'chunganglee'}, {'id':'20202222', 'name':'chungangpark'}]"
      ]
    },
    {
      "cell_type": "code",
      "metadata": {
        "id": "9_XZ7roe_RiO"
      },
      "source": [
        ""
      ],
      "execution_count": null,
      "outputs": []
    },
    {
      "cell_type": "markdown",
      "metadata": {
        "id": "tnAI8qFG_SY1"
      },
      "source": [
        "## 2.2. 문자열 포맷팅\n",
        "\n",
        "아래와 같이, 학번, 이름, 출석 여부의 튜플 리스트가 있을 때, 학번을 입력하고 학번에 해당하는 정보를 \"학번: [학번] 이름: [이름] | 출석/ 결석/ 지각\"과 같이 출력하시오.\n",
        "\n",
        "    (0: 결석, 1: 출석, 2: 지각)"
      ]
    },
    {
      "cell_type": "code",
      "metadata": {
        "id": "uJDkGg3s_njm"
      },
      "source": [
        "lecture_1 = [{'id':'20200000', 'name':'김중앙', 'attendance':0}, {'id':'20201111', 'name':'이중앙', 'attendance':1}, {'id':'20202222', 'name':'박중앙', 'attendance':2}]"
      ],
      "execution_count": null,
      "outputs": []
    },
    {
      "cell_type": "markdown",
      "metadata": {
        "id": "R92ASTTeAJK_"
      },
      "source": [
        "실행 예)\n",
        "\n",
        "    입력:\n",
        "        조회할 학번: 20200000\n",
        "    출력:\n",
        "        학벌: 20200000 이름: 김중앙 | 출석"
      ]
    },
    {
      "cell_type": "code",
      "metadata": {
        "id": "oLYX1zAPAIWG"
      },
      "source": [
        ""
      ],
      "execution_count": null,
      "outputs": []
    },
    {
      "cell_type": "markdown",
      "metadata": {
        "id": "sXPwu8ImAWUG"
      },
      "source": [
        "## 2.3. 문자열 정렬, 공백\n",
        "\n",
        "아래와 같이, 연락처 튜플 리스트가 있을 때, 연락처를 예시와 같이 보기 좋게 출력하시오."
      ]
    },
    {
      "cell_type": "code",
      "metadata": {
        "id": "cIYANbmtAjkL"
      },
      "source": [
        "contacts = [{'name':'김중앙', 'phone':'01000000000', 'birth':'000101', 'email':'chungangkim@cau.ac.kr'}, {'name':'이중앙', 'phone':'01011111111', 'birth':'990201', 'email':'chunganglee@cau.ac.kr'}]"
      ],
      "execution_count": null,
      "outputs": []
    },
    {
      "cell_type": "markdown",
      "metadata": {
        "id": "UnMvrQQ1At9c"
      },
      "source": [
        "실행 예)\n",
        "\n",
        "    |✓name✓|✓✓✓✓✓phone✓✓✓✓|✓✓birth✓|✓✓✓✓✓✓✓✓✓✓email✓✓✓✓✓✓✓✓✓✓|\n",
        "    |-----------------------------------------------------|\n",
        "    |✓김중앙✓|✓01000000000✓|✓000101✓|✓chungangkim@cau.ac.kr✓|\n",
        "    |✓이중앙✓|✓01011111111✓|✓990201✓|✓chunganglee@cau.ac.kr✓|\n",
        "\n",
        "    (✓: 빈칸)\n"
      ]
    },
    {
      "cell_type": "code",
      "metadata": {
        "id": "P-fx-9oBBnqP"
      },
      "source": [
        ""
      ],
      "execution_count": null,
      "outputs": []
    },
    {
      "cell_type": "markdown",
      "metadata": {
        "id": "_5rje0XUBoGC"
      },
      "source": [
        "## 2.4. 문자열 소수점\n",
        "\n",
        "사용자에게 [1, 10000] 구간 안에 존재하는 실수를 입력하고 합산하여 소숫점 이하 4자리까지 반올림하여 출력하시오. (단, 0을 입력할 경우 연산 종료)"
      ]
    },
    {
      "cell_type": "markdown",
      "metadata": {
        "id": "FlN8l9k9CHE_"
      },
      "source": [
        "실행 예)\n",
        "\n",
        "    입력: [1, 10000] 구간 안에 존재하는 실수를 입력하세요: 37\n",
        "    출력: 37 = 37.0000\n",
        "\n",
        "    입력: [1, 10000] 구간 안에 존재하는 실수를 입력하세요: 187.4\n",
        "    출력: 37 + 187.4 = 224.40000\n",
        "\n",
        "    입력: [1, 10000] 구간 안에 존재하는 실수를 입력하세요: 7652.97\n",
        "    출력: 37 + 187.4 + 7652.97 = 7877.3700\n",
        "\n",
        "    입력: [1, 10000] 구간 안에 존재하는 실수를 입력하세요: 0"
      ]
    },
    {
      "cell_type": "code",
      "metadata": {
        "id": "PGH9xrrKCGuV"
      },
      "source": [
        ""
      ],
      "execution_count": null,
      "outputs": []
    },
    {
      "cell_type": "markdown",
      "metadata": {
        "id": "-8SJ4xZOCzfN"
      },
      "source": [
        "## 2.5. 문자열 함수"
      ]
    },
    {
      "cell_type": "markdown",
      "metadata": {
        "id": "VSVf-GCQDW8x"
      },
      "source": [
        "### 2.5.1. 문자열 함수 1\n",
        "\n",
        "문장을 입력하고 입력한 문장에서 공백을 이용해 단어들을 구분하고, 중복된 단어 없이 콤마(,)로 구분해 출력하시오."
      ]
    },
    {
      "cell_type": "code",
      "metadata": {
        "id": "upKiFw3yDB_4"
      },
      "source": [
        ""
      ],
      "execution_count": null,
      "outputs": []
    },
    {
      "cell_type": "markdown",
      "metadata": {
        "id": "13Qa7EQlDCVT"
      },
      "source": [
        "실행 예)\n",
        "\n",
        "    입력: Greif is the agony of an instant the indulgence of grief the blunder of a life\n",
        "    출력: Grief, a, agony, an, blunder, grief, indulgence, instant, is, life, of, the"
      ]
    },
    {
      "cell_type": "markdown",
      "metadata": {
        "id": "b2zyVxnjDcG0"
      },
      "source": [
        "### 2.5.2. 문자열 함수 2\n",
        "\n",
        "수식을 입력하고 입력한 수식의 계산한 결과를 출력하시오. (단, 덧셈, 뺄셈, 곱셈만 가능하고, 수식에 있는 연산자는 모두 같음)"
      ]
    },
    {
      "cell_type": "code",
      "metadata": {
        "id": "zjhRVOvGDoDu"
      },
      "source": [
        ""
      ],
      "execution_count": null,
      "outputs": []
    },
    {
      "cell_type": "markdown",
      "metadata": {
        "id": "odP4vMAKDouX"
      },
      "source": [
        "실행 예)\n",
        "\n",
        "    입력: \n",
        "        연산자: +\n",
        "        수식: 12+345+6789\n",
        "    출력: 12 + 345 + 6789\n",
        "\n",
        "    입력: \n",
        "        연산자: *\n",
        "        수식: 12*345\n",
        "    출력: 12 x 345 = 4140\n",
        "\n",
        "    입력:\n",
        "        연산자: -\n",
        "        수식: 6789-345-12-135\n",
        "    출력: 6789 - 345 - 12 - 135 = 6297"
      ]
    },
    {
      "cell_type": "code",
      "metadata": {
        "id": "_aIey1O0EFtf"
      },
      "source": [
        ""
      ],
      "execution_count": null,
      "outputs": []
    }
  ]
}