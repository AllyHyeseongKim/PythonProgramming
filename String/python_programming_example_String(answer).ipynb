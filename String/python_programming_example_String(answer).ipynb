{
  "nbformat": 4,
  "nbformat_minor": 0,
  "metadata": {
    "colab": {
      "name": "Python 문자열 연습문제.ipynb의 사본",
      "provenance": [],
      "private_outputs": true,
      "collapsed_sections": [],
      "authorship_tag": "ABX9TyNfGTmcIyJABS9dxEH96sAl",
      "include_colab_link": true
    },
    "kernelspec": {
      "name": "python3",
      "display_name": "Python 3"
    }
  },
  "cells": [
    {
      "cell_type": "markdown",
      "metadata": {
        "id": "view-in-github",
        "colab_type": "text"
      },
      "source": [
        "<a href=\"https://colab.research.google.com/github/AllyHyeseongKim/PythonProgramming/blob/main/String/python_programming_example_String(answer).ipynb\" target=\"_parent\"><img src=\"https://colab.research.google.com/assets/colab-badge.svg\" alt=\"Open In Colab\"/></a>"
      ]
    },
    {
      "cell_type": "markdown",
      "metadata": {
        "id": "rqNr0nne0Ykd"
      },
      "source": [
        "# 2. Python 문자열 연습문제"
      ]
    },
    {
      "cell_type": "markdown",
      "metadata": {
        "id": "RLGTYkgg-U_z"
      },
      "source": [
        "## 2.1. 문자열 연산, 인덱싱, 슬라이싱, escape\n",
        "\n",
        "아래와 같이, 학번과 이름이 붙어있는 학생 정보 리스트가 있을 때, 슬라이싱을 이용하여 각 학생의 학번과 이름을 튜플로 저장한 리스트를 출력하시오."
      ]
    },
    {
      "cell_type": "code",
      "metadata": {
        "id": "XXrCXcUg-gei"
      },
      "source": [
        "students = ['20200000chungangkim', '20201111chunganglee', '20202222chungangpark']"
      ],
      "execution_count": null,
      "outputs": []
    },
    {
      "cell_type": "markdown",
      "metadata": {
        "id": "dw6K2-nz-5IM"
      },
      "source": [
        "실행 예)\n",
        "\n",
        "    출력: [{'id':'20200000', 'name':'chungangkim'}, {'id':'20201111', 'name':'chunganglee'}, {'id':'20202222', 'name':'chungangpark'}]"
      ]
    },
    {
      "cell_type": "code",
      "metadata": {
        "id": "9_XZ7roe_RiO"
      },
      "source": [
        "student_list = []\n",
        "\n",
        "for student in students:\n",
        "    id = student[:8]\n",
        "    name = student[8:]\n",
        "    student_tuple = dict()\n",
        "    student_tuple['id'] = id\n",
        "    student_tuple['name'] = name\n",
        "    student_list.append(student_tuple)\n",
        "\n",
        "print(student_list)"
      ],
      "execution_count": null,
      "outputs": []
    },
    {
      "cell_type": "markdown",
      "metadata": {
        "id": "tnAI8qFG_SY1"
      },
      "source": [
        "## 2.2. 문자열 포맷팅\n",
        "\n",
        "아래와 같이, 학번, 이름, 출석 여부의 튜플 리스트가 있을 때, 학번을 입력하고 학번에 해당하는 정보를 \"학번: [학번] 이름: [이름] | 출석/ 결석/ 지각\"과 같이 출력하시오.\n",
        "\n",
        "    (0: 결석, 1: 출석, 2: 지각)"
      ]
    },
    {
      "cell_type": "code",
      "metadata": {
        "id": "uJDkGg3s_njm"
      },
      "source": [
        "lecture_1 = [{'id':'20200000', 'name':'김중앙', 'attendance':0}, {'id':'20201111', 'name':'이중앙', 'attendance':1}, {'id':'20202222', 'name':'박중앙', 'attendance':2}]"
      ],
      "execution_count": null,
      "outputs": []
    },
    {
      "cell_type": "markdown",
      "metadata": {
        "id": "R92ASTTeAJK_"
      },
      "source": [
        "실행 예)\n",
        "\n",
        "    입력:\n",
        "        조회할 학번: 20180000\n",
        "    출력:\n",
        "        학번 오류\n",
        "    입력:\n",
        "        조회할 학번: 20200000\n",
        "    출력:\n",
        "        학번: 20200000 이름: 김중앙 | 결석"
      ]
    },
    {
      "cell_type": "code",
      "metadata": {
        "id": "USE58Mb49Pmx"
      },
      "source": [
        "attendance_index = {0: '결석', 1: '출석', 2: '지각'}"
      ],
      "execution_count": null,
      "outputs": []
    },
    {
      "cell_type": "code",
      "metadata": {
        "id": "oLYX1zAPAIWG"
      },
      "source": [
        "id = input(\"조회할 학번: \")\n",
        "\n",
        "while (next((item for item in lecture_1 if item['id'] == id), False) is False):\n",
        "    print(\"학번 오류\")\n",
        "    id = input(\"조회할 학번: \")\n",
        "attendance_info = next((item for item in lecture_1 if item['id'] == id), False)\n",
        "\n",
        "print(\"학번: %s 이름: %s | %s\" % (attendance_info['id'], attendance_info['name'], attendance_index[attendance_info['attendance']]))"
      ],
      "execution_count": null,
      "outputs": []
    },
    {
      "cell_type": "markdown",
      "metadata": {
        "id": "sXPwu8ImAWUG"
      },
      "source": [
        "## 2.3. 문자열 정렬, 공백\n",
        "\n",
        "아래와 같이, 연락처 튜플 리스트가 있을 때, 연락처를 예시와 같이 보기 좋게 출력하시오."
      ]
    },
    {
      "cell_type": "code",
      "metadata": {
        "id": "cIYANbmtAjkL"
      },
      "source": [
        "contacts = [{'name':'김중앙', 'phone':'01000000000', 'birth':'000101', 'email':'chungangkim@cau.ac.kr'}, {'name':'이중앙', 'phone':'01011111111', 'birth':'990201', 'email':'chunganglee@cau.ac.kr'}]"
      ],
      "execution_count": null,
      "outputs": []
    },
    {
      "cell_type": "markdown",
      "metadata": {
        "id": "UnMvrQQ1At9c"
      },
      "source": [
        "실행 예)\n",
        "\n",
        "    |✓name✓|✓✓✓✓phone✓✓✓✓|✓✓birth✓|✓✓✓✓✓✓✓✓✓email✓✓✓✓✓✓✓✓✓|\n",
        "    |------|-------------|--------|-----------------------|\n",
        "    |✓김중앙✓|✓01000000000✓|✓000101✓|✓chungangkim@cau.ac.kr✓|\n",
        "    |✓이중앙✓|✓01011111111✓|✓990201✓|✓chunganglee@cau.ac.kr✓|\n",
        "\n",
        "    (✓: 빈칸)\n"
      ]
    },
    {
      "cell_type": "code",
      "metadata": {
        "id": "P-fx-9oBBnqP"
      },
      "source": [
        "print(\"%-2s\" % \"|\", end=\"\")\n",
        "print(\"%-5s\" % \"name\", end=\"\")\n",
        "print(\"%-5s\" % \"|\", end=\"\")\n",
        "print(\"%-9s\" % \"phone\", end=\"\")\n",
        "print(\"%-3s\" % \"|\", end=\"\")\n",
        "print(\"%-6s\" % \"birth\", end=\"\")\n",
        "print(\"%-10s\" % \"|\", end=\"\")\n",
        "print(\"%-14s\" % \"email\", end=\"\")\n",
        "print(\"%-1s\" % \"|\")\n",
        "print(\"|------|-------------|--------|-----------------------|\")\n",
        "for contact in contacts:\n",
        "    print(\"%-2s\" % \"|\", end=\"\")\n",
        "    print(\"%-4s\" % contact['name'], end=\"\")\n",
        "    print(\"%-2s\" % \"|\", end=\"\")\n",
        "    print(\"%-12s\" % contact['phone'], end=\"\")\n",
        "    print(\"%-2s\" % \"|\", end=\"\")\n",
        "    print(\"%-7s\" % contact['birth'], end=\"\")\n",
        "    print(\"%-2s\" % \"|\", end=\"\")\n",
        "    print(\"%-22s\" % contact['email'], end=\"\")\n",
        "    print(\"%-1s\" % \"|\")"
      ],
      "execution_count": null,
      "outputs": []
    },
    {
      "cell_type": "markdown",
      "metadata": {
        "id": "_5rje0XUBoGC"
      },
      "source": [
        "## 2.4. 문자열 소수점\n",
        "\n",
        "사용자에게 [1, 10000] 구간 안에 존재하는 실수를 입력하고 합산하여 소숫점 이하 4자리까지 버림하여 출력하시오. (단, 0을 입력할 경우 연산 종료)"
      ]
    },
    {
      "cell_type": "markdown",
      "metadata": {
        "id": "FlN8l9k9CHE_"
      },
      "source": [
        "실행 예)\n",
        "\n",
        "    입력: [1, 10000] 구간 안에 존재하는 실수를 입력하세요: 37\n",
        "    출력: 37 = 37.0000\n",
        "\n",
        "    입력: [1, 10000] 구간 안에 존재하는 실수를 입력하세요: 187.4\n",
        "    출력: 37 + 187.4 = 224.4000\n",
        "\n",
        "    입력: [1, 10000] 구간 안에 존재하는 실수를 입력하세요: 7652.97\n",
        "    출력: 37 + 187.4 + 7652.97 = 7877.3700\n",
        "\n",
        "    입력: [1, 10000] 구간 안에 존재하는 실수를 입력하세요: 0"
      ]
    },
    {
      "cell_type": "code",
      "metadata": {
        "id": "PGH9xrrKCGuV"
      },
      "source": [
        "real_num = input(\"[1, 10000] 구간 안에 존재하는 실수를 입력하세요: \")\n",
        "current_calc = float(real_num)\n",
        "previous_output = real_num\n",
        "while (float(real_num) >= 1):\n",
        "    print(previous_output + \" = %0.4f\" % current_calc)\n",
        "    real_num = input(\"[1, 10000] 구간 안에 존재하는 실수를 입력하세요: \")\n",
        "    current_calc = current_calc + float(real_num)\n",
        "    previous_output = previous_output + \" + \" + real_num"
      ],
      "execution_count": null,
      "outputs": []
    },
    {
      "cell_type": "markdown",
      "metadata": {
        "id": "-8SJ4xZOCzfN"
      },
      "source": [
        "## 2.5. 문자열 함수"
      ]
    },
    {
      "cell_type": "markdown",
      "metadata": {
        "id": "VSVf-GCQDW8x"
      },
      "source": [
        "### 2.5.1. 문자열 함수 1\n",
        "\n",
        "문장을 입력하고 입력한 문장에서 공백을 이용해 단어들을 구분하고, 중복된 단어 없이 콤마(,)로 구분해 출력하시오."
      ]
    },
    {
      "cell_type": "markdown",
      "metadata": {
        "id": "13Qa7EQlDCVT"
      },
      "source": [
        "실행 예)\n",
        "\n",
        "    입력: Greif is the agony of an instant the indulgence of grief the blunder of a life\n",
        "    출력: agony, of, instant, blunder, a, life, indulgence, grief, Greif, the, is, an"
      ]
    },
    {
      "cell_type": "code",
      "metadata": {
        "id": "upKiFw3yDB_4"
      },
      "source": [
        "sentence = list(set(input().split(\" \")))\n",
        "sentence_result = \", \".join(sentence)\n",
        "print(sentence_result)"
      ],
      "execution_count": null,
      "outputs": []
    },
    {
      "cell_type": "markdown",
      "metadata": {
        "id": "b2zyVxnjDcG0"
      },
      "source": [
        "### 2.5.2. 문자열 함수 2\n",
        "\n",
        "수식을 입력하고 입력한 수식의 계산한 결과를 출력하시오. (단, 덧셈, 뺄셈, 곱셈만 가능하고, 수식에 있는 연산자는 모두 같음) (단, 피연산자는 양의 정수)"
      ]
    },
    {
      "cell_type": "markdown",
      "metadata": {
        "id": "odP4vMAKDouX"
      },
      "source": [
        "실행 예)\n",
        "\n",
        "    입력: \n",
        "        연산자: +\n",
        "        수식: 12+345+6789\n",
        "    출력: 12 + 345 + 6789 = 7146\n",
        "\n",
        "    입력: \n",
        "        연산자: *\n",
        "        수식: 12*345\n",
        "    출력: 12 * 345 = 4140\n",
        "\n",
        "    입력:\n",
        "        연산자: -\n",
        "        수식: 6789-345-12-135\n",
        "    출력: 6789 - 345 - 12 - 135 = 6297\n",
        "\n",
        "    입력:\n",
        "        연산자: 0"
      ]
    },
    {
      "cell_type": "code",
      "metadata": {
        "id": "4bhJLtbm9aaQ"
      },
      "source": [
        "operator_index = {'+': 0, '*': 1, '-': 2}"
      ],
      "execution_count": null,
      "outputs": []
    },
    {
      "cell_type": "code",
      "metadata": {
        "id": "_aIey1O0EFtf"
      },
      "source": [
        "def calc(current, operand, operator):\n",
        "    if operator is 0:\n",
        "        current = current + operand\n",
        "    elif operator is 1:\n",
        "        current = current * operand\n",
        "    else:\n",
        "        current = current - operand\n",
        "    return current"
      ],
      "execution_count": null,
      "outputs": []
    },
    {
      "cell_type": "code",
      "metadata": {
        "id": "knWMY7AQ9dtB"
      },
      "source": [
        "operator = input(\"연산자: \")\n",
        "\n",
        "while(operator is not \"0\"):\n",
        "    expression = input(\"수식: \")\n",
        "    operands = list(map(int, expression.split(operator)))\n",
        "\n",
        "    for i in range(len(operands)):\n",
        "        if i is 0:\n",
        "            current_calc = operands[i]\n",
        "        else:\n",
        "            current_calc = calc(current_calc, operands[i], operator_index[operator])\n",
        "        print(operands[i], end=\" \")\n",
        "        if i is not len(operands) - 1:\n",
        "            print(operator, end=\" \")\n",
        "    print(\"= \", current_calc)\n",
        "\n",
        "    operator = input(\"연산자: \")"
      ],
      "execution_count": null,
      "outputs": []
    }
  ]
}